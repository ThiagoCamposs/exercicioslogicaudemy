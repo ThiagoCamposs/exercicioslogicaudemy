{
  "nbformat": 4,
  "nbformat_minor": 0,
  "metadata": {
    "colab": {
      "name": "Lista de Exercicios - Curso Logica de Programacao e Algoritmos Udemy.ipynb",
      "provenance": [],
      "collapsed_sections": []
    },
    "kernelspec": {
      "name": "python3",
      "display_name": "Python 3"
    },
    "language_info": {
      "name": "python"
    }
  },
  "cells": [
    {
      "cell_type": "markdown",
      "metadata": {
        "id": "DGUM5f9WgOyX"
      },
      "source": [
        "#**Curso: Lógica de Programação e Algoritmos com Python e exercícios!**\n",
        "link: https://www.udemy.com/share/102b2oBUEacl1bTHw=/\n"
      ]
    },
    {
      "cell_type": "markdown",
      "metadata": {
        "id": "STPueFS1gfD-"
      },
      "source": [
        "Neste curso foi abordado alguns exercícios provenientes da wiki do Python Brasil. Neste notebook ficarão registrados a minha resolução para os exercícios abordados no curso.\n",
        "\n",
        "link dos exercícios: https://wiki.python.org.br/ListaDeExercicios"
      ]
    },
    {
      "cell_type": "markdown",
      "metadata": {
        "id": "p8IacEgPhDuP"
      },
      "source": [
        "#**ESTRUTURA SEQUENCIAL**"
      ]
    },
    {
      "cell_type": "markdown",
      "metadata": {
        "id": "f4hVgkQmhM_C"
      },
      "source": [
        "##Tarefa 01 - Faça um Programa que mostre a mensagem \"Alo mundo\" na tela."
      ]
    },
    {
      "cell_type": "code",
      "metadata": {
        "colab": {
          "base_uri": "https://localhost:8080/"
        },
        "id": "2qzPiuUQhWDF",
        "outputId": "2b572099-ed1c-4edd-d0f9-abdd3a4a9cff"
      },
      "source": [
        "print(\"Alo mundo\")"
      ],
      "execution_count": null,
      "outputs": [
        {
          "output_type": "stream",
          "text": [
            "Alo mundo\n"
          ],
          "name": "stdout"
        }
      ]
    },
    {
      "cell_type": "markdown",
      "metadata": {
        "id": "094rRTzzhjFc"
      },
      "source": [
        "##Tarefa 02 - Faça um Programa que peça um número e então mostre a mensagem \"O número informado foi [número]\"."
      ]
    },
    {
      "cell_type": "code",
      "metadata": {
        "colab": {
          "base_uri": "https://localhost:8080/"
        },
        "id": "Y9KVEP6ahr4P",
        "outputId": "252eea71-687a-46bc-d73a-583dc08b00d5"
      },
      "source": [
        "num = float(input('Digite um numero: '))\n",
        "print(f'O numero informado foi {num:.0f}')"
      ],
      "execution_count": null,
      "outputs": [
        {
          "output_type": "stream",
          "text": [
            "Digite um numero: 15\n",
            "O numero informado foi 15\n"
          ],
          "name": "stdout"
        }
      ]
    },
    {
      "cell_type": "markdown",
      "metadata": {
        "id": "JvS_4KfpiIte"
      },
      "source": [
        "##Tarefa 03 - Faça um Programa que peça dois números e imprima a soma."
      ]
    },
    {
      "cell_type": "code",
      "metadata": {
        "colab": {
          "base_uri": "https://localhost:8080/"
        },
        "id": "I8zPSLc3hibm",
        "outputId": "a9b478de-e25c-4c8e-a5b9-6ca77a6c5002"
      },
      "source": [
        "a = float(input(\"Digite um número: \"))\n",
        "b = float(input(\"Digite outro número: \"))\n",
        "soma = a + b\n",
        "print(f'A soma dos números é {soma}')"
      ],
      "execution_count": null,
      "outputs": [
        {
          "output_type": "stream",
          "text": [
            "Digite um número: 5\n",
            "Digite outro número: 8\n",
            "A soma dos números é 13.0\n"
          ],
          "name": "stdout"
        }
      ]
    },
    {
      "cell_type": "markdown",
      "metadata": {
        "id": "NjFKEZBYibTX"
      },
      "source": [
        "##Tarefa 04 - Faça um Programa que peça as 4 notas bimestrais e mostre a média."
      ]
    },
    {
      "cell_type": "code",
      "metadata": {
        "colab": {
          "base_uri": "https://localhost:8080/"
        },
        "id": "Dam3Swm4ikju",
        "outputId": "883e1a95-829e-4aef-f544-c52e26c15d2f"
      },
      "source": [
        "bim1 = float(input(\"Digite a nota do 1º Bimestre: \"))\n",
        "bim2 = float(input(\"Digite a nota do 2º Bimestre: \"))\n",
        "bim3 = float(input(\"Digite a nota do 3º Bimestre: \"))\n",
        "bim4 = float(input(\"Digite a nota do 4º Bimestre: \"))\n",
        "mediaNotas = (bim1+bim2+bim3+bim4)/4\n",
        "print(f'A médias das notas bimestrais é {mediaNotas}')"
      ],
      "execution_count": null,
      "outputs": [
        {
          "output_type": "stream",
          "text": [
            "Digite a nota do 1º Bimestre: 5\n",
            "Digite a nota do 2º Bimestre: 9\n",
            "Digite a nota do 3º Bimestre: 4\n",
            "Digite a nota do 4º Bimestre: 7\n",
            "A médias das notas bimestrais é 6.25\n"
          ],
          "name": "stdout"
        }
      ]
    },
    {
      "cell_type": "markdown",
      "metadata": {
        "id": "1yZJFfsEitLO"
      },
      "source": [
        "##Tarefa 05 - Faça um Programa que converta metros para centímetros."
      ]
    },
    {
      "cell_type": "code",
      "metadata": {
        "colab": {
          "base_uri": "https://localhost:8080/"
        },
        "id": "bORpoLXAizUf",
        "outputId": "be0c3be4-98b8-4e50-8b45-4687e930d735"
      },
      "source": [
        "metros = float(input(\"Digite a distância em metros: \"))\n",
        "centimetros = metros*100\n",
        "print(f'A distância informada em centímetros é {centimetros:.0f}')"
      ],
      "execution_count": null,
      "outputs": [
        {
          "output_type": "stream",
          "text": [
            "Digite a distância em metros: 20\n",
            "A distância informada em centímetros é 2000\n"
          ],
          "name": "stdout"
        }
      ]
    },
    {
      "cell_type": "markdown",
      "metadata": {
        "id": "LgxS9rLOi77_"
      },
      "source": [
        "##Tarefa 06 - Faça um Programa que peça o raio de um círculo, calcule e mostre sua área."
      ]
    },
    {
      "cell_type": "code",
      "metadata": {
        "colab": {
          "base_uri": "https://localhost:8080/"
        },
        "id": "Y-B18MHcjA_e",
        "outputId": "38df0544-0ea5-4b8e-f833-73a9843c16f3"
      },
      "source": [
        "import math\n",
        "\n",
        "raio = float(input(\"Digite a a distância do raio em metros: \"))\n",
        "area = math.pi*(raio**2)\n",
        "print(f'A área da circunferência é {area:.2f}m²')"
      ],
      "execution_count": null,
      "outputs": [
        {
          "output_type": "stream",
          "text": [
            "Digite a a distância do raio em metros: 2\n",
            "A área da circunferência é 12.57m²\n"
          ],
          "name": "stdout"
        }
      ]
    },
    {
      "cell_type": "markdown",
      "metadata": {
        "id": "kOFqbqyLjFy2"
      },
      "source": [
        "##Tarefa 07 - Faça um Programa que calcule a área de um quadrado, em seguida mostre o dobro desta área para o usuário."
      ]
    },
    {
      "cell_type": "code",
      "metadata": {
        "colab": {
          "base_uri": "https://localhost:8080/"
        },
        "id": "UZjZ3qn3jL8u",
        "outputId": "291154ec-39fb-41bf-80d1-88d4dcf3e747"
      },
      "source": [
        "lado = float(input(\"Digite o valor em metros de um dos lados do quadrado: \"))\n",
        "area = lado * lado\n",
        "print(f'O dobro da área deste quadrado é {area*2:.2f}m²')"
      ],
      "execution_count": null,
      "outputs": [
        {
          "output_type": "stream",
          "text": [
            "Digite o valor em metros de um dos lados do quadrado: 5\n",
            "O dobro da área deste quadrado é 50.00m²\n"
          ],
          "name": "stdout"
        }
      ]
    },
    {
      "cell_type": "markdown",
      "metadata": {
        "id": "EAAanueKjeqH"
      },
      "source": [
        "##Tarefa 08 - Faça um Programa que pergunte quanto você ganha por hora e o número de horas trabalhadas no mês. Calcule e mostre o total do seu salário no referido mês."
      ]
    },
    {
      "cell_type": "code",
      "metadata": {
        "colab": {
          "base_uri": "https://localhost:8080/"
        },
        "id": "_w60G6a2kM0n",
        "outputId": "37b7dadb-4369-4e03-e656-3dbb88f16a6d"
      },
      "source": [
        "salarioHora = float(input(\"Digite quanto você recebe de salário por hora: \"))\n",
        "horas = float(input(\"Digite quantas horas você trabalha por mês: \"))\n",
        "salarioMensal = salarioHora * horas\n",
        "print(f'O seu salário mensal é {salarioMensal:.2f}')"
      ],
      "execution_count": null,
      "outputs": [
        {
          "output_type": "stream",
          "text": [
            "Digite quanto você recebe de salário por hora: 50\n",
            "Digite quantas horas você trabalha por mês: 100\n",
            "O seu salário mensal é 5000.00\n"
          ],
          "name": "stdout"
        }
      ]
    },
    {
      "cell_type": "markdown",
      "metadata": {
        "id": "3ez-UWi_kcVp"
      },
      "source": [
        "##Tarefa 09 - Faça um Programa que peça a temperatura em graus Farenheit, transforme e mostre a temperatura em graus Celsius."
      ]
    },
    {
      "cell_type": "code",
      "metadata": {
        "colab": {
          "base_uri": "https://localhost:8080/"
        },
        "id": "1izYjdx_kpBP",
        "outputId": "e025d975-5fc4-4c6c-921d-5e77ff82a2f2"
      },
      "source": [
        "farenheit = float(input(\"Digite o valor da temperatura em graus Farenheit: \"))\n",
        "celsius = (5*(farenheit-32))/9\n",
        "print(f'Esta temperatura em graus Celsius equivale a {celsius:.2f}')"
      ],
      "execution_count": null,
      "outputs": [
        {
          "output_type": "stream",
          "text": [
            "Digite o valor da temperatura em graus Farenheit: 80\n",
            "Esta temperatura em graus Celsius equivale a 26.67\n"
          ],
          "name": "stdout"
        }
      ]
    },
    {
      "cell_type": "markdown",
      "metadata": {
        "id": "pEKUuvZIlYaO"
      },
      "source": [
        "##Tarefa 10 - Faça um Programa que peça a temperatura em graus Celsius, transforme e mostre em graus Farenheit. "
      ]
    },
    {
      "cell_type": "code",
      "metadata": {
        "colab": {
          "base_uri": "https://localhost:8080/"
        },
        "id": "sWsGdnWNlh_I",
        "outputId": "caa576ba-7f4b-4971-fb16-7e51d328d47e"
      },
      "source": [
        "celsius = float(input(\"Digite o valor da temperatura em graus Celsius: \"))\n",
        "farenheit = celsius*1.8 + 32\n",
        "print(f'Esta temperatura em graus Farenheit equivale a {farenheit:.2f}')"
      ],
      "execution_count": null,
      "outputs": [
        {
          "output_type": "stream",
          "text": [
            "Digite o valor da temperatura em graus Celsius: 32\n",
            "Esta temperatura em graus Farenheit equivale a 89.60\n"
          ],
          "name": "stdout"
        }
      ]
    },
    {
      "cell_type": "markdown",
      "metadata": {
        "id": "Yhu5UyHslo_H"
      },
      "source": [
        "##Tarefa 11 - Faça um Programa que peça 2 números inteiros e um número real. Calcule e mostre:\n",
        "1.   o produto do dobro do primeiro com metade do segundo.\n",
        "1.   a soma do triplo do primeiro com o terceiro.\n",
        "2.   o terceiro elevado ao cubo.\n"
      ]
    },
    {
      "cell_type": "code",
      "metadata": {
        "colab": {
          "base_uri": "https://localhost:8080/"
        },
        "id": "f6RPDvGimINw",
        "outputId": "f085a1d8-8733-42b1-af9a-172ddfdcc712"
      },
      "source": [
        "inte1 = int(input(\"Digite um número inteiro: \"))\n",
        "inte2 = int(input(\"Digite outro número inteiro: \"))\n",
        "real = float(input(\"Digite um número real: \"))\n",
        "\n",
        "calc1 = (2*inte1)*(inte2/2) \n",
        "calc2 = (3*inte1)+real\n",
        "calc3 = real**3\n",
        "\n",
        "print(f'o produto do dobro do primeiro com metade do segundo: {calc1:.2f}')\n",
        "print(f'a soma do triplo do primeiro com o terceiro: {calc2:.2f}')\n",
        "print(f'o terceiro elevado ao cubo: {calc3:.2f}')"
      ],
      "execution_count": null,
      "outputs": [
        {
          "output_type": "stream",
          "text": [
            "Digite um número inteiro: 5\n",
            "Digite outro número inteiro: 6\n",
            "Digite um número real: 5.9\n",
            "o produto do dobro do primeiro com metade do segundo: 30.00\n",
            "a soma do triplo do primeiro com o terceiro: 20.90\n",
            "o terceiro elevado ao cubo: 205.38\n"
          ],
          "name": "stdout"
        }
      ]
    },
    {
      "cell_type": "markdown",
      "metadata": {
        "id": "roHuXHXXmcGi"
      },
      "source": [
        "##Tarefa 12 - Tendo como dados de entrada a altura de uma pessoa, construa um algoritmo que calcule seu peso ideal, usando a seguinte fórmula: (72.7*altura) - 58."
      ]
    },
    {
      "cell_type": "code",
      "metadata": {
        "colab": {
          "base_uri": "https://localhost:8080/"
        },
        "id": "T7IzCmG4moOY",
        "outputId": "57153bd5-27cd-47d8-d5a6-4482509df5f9"
      },
      "source": [
        "altura = float(input(\"Digite a sua altura: \"))\n",
        "pesoIdeal = (72.7*altura) - 58\n",
        "print(f'Seu peso ideal: {pesoIdeal:.2f}')"
      ],
      "execution_count": null,
      "outputs": [
        {
          "output_type": "stream",
          "text": [
            "Digite a sua altura: 1.74\n",
            "Seu peso ideal: 68.50\n"
          ],
          "name": "stdout"
        }
      ]
    },
    {
      "cell_type": "markdown",
      "metadata": {
        "id": "0TylKNHbmuS3"
      },
      "source": [
        "##Tarefa 13 - Tendo como dado de entrada a altura (h) de uma pessoa, construa um algoritmo que calcule seu peso ideal, utilizando as seguintes fórmulas:\n",
        "*   Para homens: (72.7*h) - 58.\n",
        "*   Para mulheres: (62.1*h) - 44.7.\n"
      ]
    },
    {
      "cell_type": "code",
      "metadata": {
        "colab": {
          "base_uri": "https://localhost:8080/"
        },
        "id": "pnzEKQ54m-u4",
        "outputId": "e79bb904-4b6f-478a-902a-4cb77b08f0a2"
      },
      "source": [
        "altura = float(input(\"Digite a sua altura: \"))\n",
        "pesoIdealHomem = (72.7*altura) - 58\n",
        "pesoIdealMulher = (62.1*altura) - 44.7\n",
        "print(f'Seu peso ideal caso você seja homem: {pesoIdealHomem:.2f}')\n",
        "print(f'Seu peso ideal caso você seja mulher: {pesoIdealMulher:.2f}')"
      ],
      "execution_count": null,
      "outputs": [
        {
          "output_type": "stream",
          "text": [
            "Digite a sua altura: 1.74\n",
            "Seu peso ideal caso você seja homem: 68.50\n",
            "Seu peso ideal caso você seja mulher: 63.35\n"
          ],
          "name": "stdout"
        }
      ]
    },
    {
      "cell_type": "markdown",
      "metadata": {
        "id": "SOzUt2T0nKc2"
      },
      "source": [
        "##Tarefa 14 - João Papo-de-Pescador, homem de bem, comprou um microcomputador para controlar o rendimento diário de seu trabalho. Toda vez que ele traz um peso de peixes maior que o estabelecido pelo regulamento de pesca do estado de São Paulo (50 quilos) deve pagar uma multa de R$ 4,00 por quilo excedente. João precisa que você faça um programa que leia a variável peso (peso de peixes) e calcule o excesso. Gravar na variável excesso a quantidade de quilos além do limite e na variável multa o valor da multa que João deverá pagar. Imprima os dados do programa com as mensagens adequadas."
      ]
    },
    {
      "cell_type": "code",
      "metadata": {
        "colab": {
          "base_uri": "https://localhost:8080/"
        },
        "id": "a8smCBDJnRhP",
        "outputId": "69cfd868-6803-4430-9626-a0073fa39b74"
      },
      "source": [
        "pesoPeixes = float(input(\"Digite o peso dos peixes em quilogramas: \"))\n",
        "excessoPeso = 0\n",
        "\n",
        "if pesoPeixes > 50:\n",
        "  excessoPeso = pesoPeixes-50\n",
        "\n",
        "multa = excessoPeso*4\n",
        "print(f'O peso que excedeu o limite é {excessoPeso:.2f}kg e deve-se pagar R${multa:.2f} em multa')"
      ],
      "execution_count": null,
      "outputs": [
        {
          "output_type": "stream",
          "text": [
            "Digite o peso dos peixes em quilogramas: 53\n",
            "O peso que excedeu o limite é 3.00kg e deve-se pagar R$12.00 em multa\n"
          ],
          "name": "stdout"
        }
      ]
    },
    {
      "cell_type": "markdown",
      "metadata": {
        "id": "RmX4oNHXndDB"
      },
      "source": [
        "##Tarefa 15 - Faça um Programa que pergunte quanto você ganha por hora e o número de horas trabalhadas no mês. Calcule e mostre o total do seu salário no referido mês, sabendo-se que são descontados 11% para o Imposto de Renda, 8% para o INSS e 5% para o sindicato, faça um programa que nos dê:\n",
        "1.   salário bruto.\n",
        "2.   quanto pagou ao INSS.\n",
        "1.   quanto pagou ao sindicato.\n",
        "2.   o salário líquido.\n",
        "1.   calcule os descontos e o salário líquido, conforme a tabela abaixo:\n",
        "*   Salário Bruto\n",
        "*   IR (11%)\n",
        "*   INSS (8%)\n",
        "*   Sindicato ( 5%)\n",
        "*   Salário Liquido (Salário Bruto - Descontos = Salário Líquido)\n"
      ]
    },
    {
      "cell_type": "code",
      "metadata": {
        "colab": {
          "base_uri": "https://localhost:8080/"
        },
        "id": "i0K9YOWqntQ4",
        "outputId": "a9e0af96-0089-4533-d5c1-e744a5740f46"
      },
      "source": [
        "salarioHora = float(input(\"Digite quanto você recebe de salário por hora: \"))\n",
        "horas = float(input(\"Digite quantas horas você trabalha por mês: \"))\n",
        "salarioMensalBruto = salarioHora * horas\n",
        "ir = 0.11*salarioMensalBruto\n",
        "inss = 0.08*salarioMensalBruto\n",
        "sindicato = 0.05*salarioMensalBruto\n",
        "salarioMensalLiquido = salarioMensalBruto - ir - inss - sindicato\n",
        "\n",
        "print(f'+ Salário Bruto : R${salarioMensalBruto:.2f} \\n'  \n",
        "f'- IR (11%) : R${ir:.2f} \\n'\n",
        "f'- INSS (8%) : R${inss:.2f} \\n'\n",
        "f'- Sindicato (5%) : R${sindicato:.2f} \\n'\n",
        "f'= Salário Liquido : R${salarioMensalLiquido:.2f}')"
      ],
      "execution_count": null,
      "outputs": [
        {
          "output_type": "stream",
          "text": [
            "Digite quanto você recebe de salário por hora: 50\n",
            "Digite quantas horas você trabalha por mês: 150\n",
            "+ Salário Bruto : R$7500.00 \n",
            "- IR (11%) : R$825.00 \n",
            "- INSS (8%) : R$600.00 \n",
            "- Sindicato (5%) : R$375.00 \n",
            "= Salário Liquido : R$5700.00\n"
          ],
          "name": "stdout"
        }
      ]
    },
    {
      "cell_type": "markdown",
      "metadata": {
        "id": "jODWx5POpi5o"
      },
      "source": [
        "##Tarefa 16 - Faça um programa para uma loja de tintas. O programa deverá pedir o tamanho em metros quadrados da área a ser pintada. Considere que a cobertura da tinta é de 1 litro para cada 3 metros quadrados e que a tinta é vendida em latas de 18 litros, que custam R$ 80,00. Informe ao usuário a quantidades de latas de tinta a serem compradas e o preço total."
      ]
    },
    {
      "cell_type": "code",
      "metadata": {
        "colab": {
          "base_uri": "https://localhost:8080/"
        },
        "id": "ze-8Q72-po8x",
        "outputId": "84cb080b-5652-4bfc-ab9a-ef5e751094eb"
      },
      "source": [
        "area = float(input(\"Digite a área ser pintada em m²: \"))\n",
        "litroPorMetro = area/3\n",
        "quantidadeLata = round((litroPorMetro/18)+0.5)\n",
        "custoFinal = quantidadeLata * 80\n",
        "print(f'A quantidade de lata(s) a ser(em) comprada(s) é {quantidadeLata} e o custo total é de R${custoFinal:.2f}.')"
      ],
      "execution_count": null,
      "outputs": [
        {
          "output_type": "stream",
          "text": [
            "Digite a área ser pintada em m²: 120\n",
            "A quantidade de lata(s) a ser(em) comprada(s) é 3 e o custo total é de R$240.00.\n"
          ],
          "name": "stdout"
        }
      ]
    },
    {
      "cell_type": "markdown",
      "metadata": {
        "id": "U7sCp54Yp184"
      },
      "source": [
        "##Tarefa 17 - Faça um Programa para uma loja de tintas. O programa deverá pedir o tamanho em metros quadrados da área a ser pintada. Considere que a cobertura da tinta é de 1 litro para cada 6 metros quadrados e que a tinta é vendida em latas de 18 litros, que custam 80,00 reais ou em galões de 3,6 litros, que custam 25,00 reais.\n",
        "1.  Informe ao usuário as quantidades de tinta a serem compradas e os respectivos preços em 3 situações:\n",
        "*   comprar apenas latas de 18 litros;\n",
        "*   comprar apenas galões de 3,6 litros;\n",
        "*   misturar latas e galões, de forma que o preço seja o menor. Acrescente 10% de folga e sempre arredonde os valores para cima, isto é, considere latas cheias.\n"
      ]
    },
    {
      "cell_type": "code",
      "metadata": {
        "colab": {
          "base_uri": "https://localhost:8080/"
        },
        "id": "UUVBLeUyqa5Y",
        "outputId": "de780af4-ef47-4ac8-dab3-0bc1e520f943"
      },
      "source": [
        "area = float(input(\"Digite a área ser pintada em m²: \"))\n",
        "litroPorMetro = (area/6)*1.1\n",
        "\n",
        "apenasLatas = round((litroPorMetro/18)+0.5)\n",
        "custoApenasLatas = apenasLatas * 80\n",
        "\n",
        "apenasGaloes = round((litroPorMetro/3.6)+0.5)\n",
        "custoApenasGaloes = apenasGaloes * 25\n",
        "\n",
        "#Latas e Galões\n",
        "latas = apenasLatas\n",
        "custoLatasGaloes = custoApenasLatas\n",
        "if (litroPorMetro//18) <= 10.8:\n",
        "  latas = int(litroPorMetro/18)\n",
        "  restoLitros = litroPorMetro//18\n",
        "  galoes = round((restoLitros/3.6)+0.5)\n",
        "  custoLatasGaloes = (latas*80)+(galoes*25)\n",
        "\n",
        "print(f'A quantidade de lata(s) a ser(em) comprada(s) é {apenasLatas} e o custo total é de R${custoApenasLatas:.2f}.')\n",
        "print(f'A quantidade de galão(ões) a ser(em) comprado(s) é {apenasGaloes} e o custo total é de R${custoApenasGaloes:.2f}.')\n",
        "print(f'Buscando o melhor preço, deve-se comprar {latas} lata(s) e {galoes} galão(ões), ao custo total de R${custoLatasGaloes:.2f}.')"
      ],
      "execution_count": null,
      "outputs": [
        {
          "output_type": "stream",
          "text": [
            "Digite a área ser pintada em m²: 368\n",
            "A quantidade de lata(s) a ser(em) comprada(s) é 4 e o custo total é de R$320.00.\n",
            "A quantidade de galão(ões) a ser(em) comprado(s) é 19 e o custo total é de R$475.00.\n",
            "Buscando o melhor preço, deve-se comprar 3 lata(s) e 1 galão(ões), ao custo total de R$265.00.\n"
          ],
          "name": "stdout"
        }
      ]
    },
    {
      "cell_type": "markdown",
      "metadata": {
        "id": "Em0Z0Triq44I"
      },
      "source": [
        "##Tarefa 18 - Faça um programa que peça o tamanho de um arquivo para download (em MB) e a velocidade de um link de Internet (em Mbps), calcule e informe o tempo aproximado de download do arquivo usando este link (em minutos)."
      ]
    },
    {
      "cell_type": "code",
      "metadata": {
        "colab": {
          "base_uri": "https://localhost:8080/"
        },
        "id": "G0z-zTNJq-GW",
        "outputId": "de60a503-74ec-4cb4-bc25-0422bc6ff70c"
      },
      "source": [
        "import math\n",
        "\n",
        "tamanhoArquivo = float(input(\"Digite o tamanho do arquivo em MB: \"))\n",
        "velocidadeDownload = float(input(\"Digite a velocidade de download da sua internet em mbps: \"))\n",
        "tempoMinutos = (tamanhoArquivo/velocidadeDownload)/60\n",
        "tempofinalmin = math.floor(tempoMinutos)\n",
        "tempofinalseg = ((tempoMinutos%60) - tempofinalmin)*60\n",
        "print(f'O tempo total para o download é de {tempofinalmin:.0f} minuto(s) e {tempofinalseg:.0f} segundo(s).')"
      ],
      "execution_count": null,
      "outputs": [
        {
          "output_type": "stream",
          "text": [
            "Digite o tamanho do arquivo em MB: 1024\n",
            "Digite a velocidade de download da sua internet em mbps: 1\n",
            "O tempo total para o download é de 17 minuto(s) e 4 segundo(s).\n"
          ],
          "name": "stdout"
        }
      ]
    },
    {
      "cell_type": "markdown",
      "metadata": {
        "id": "79gwcHl0rJwg"
      },
      "source": [
        "#**ESTRUTURA DE DECISÃO**"
      ]
    },
    {
      "cell_type": "markdown",
      "metadata": {
        "id": "wNcXjfG2rb8J"
      },
      "source": [
        "##Tarefa 01 - Faça um Programa que peça dois números e imprima o maior deles."
      ]
    },
    {
      "cell_type": "code",
      "metadata": {
        "colab": {
          "base_uri": "https://localhost:8080/"
        },
        "id": "lWDYgCWorksa",
        "outputId": "04eef09b-d7e7-47ed-8799-47eea84a6754"
      },
      "source": [
        "num1 = float(input(\"Digite um número: \"))\n",
        "num2 = float(input(\"Digite outro número: \"))\n",
        "maiorNumero = num1\n",
        "\n",
        "if num2 > num1:\n",
        "  maiorNumero = num2\n",
        "\n",
        "print(f'O maior número digitado é {maiorNumero}')"
      ],
      "execution_count": null,
      "outputs": [
        {
          "output_type": "stream",
          "text": [
            "Digite um número: 2\n",
            "Digite outro número: 32\n",
            "O maior número digitado é 32.0\n"
          ],
          "name": "stdout"
        }
      ]
    },
    {
      "cell_type": "markdown",
      "metadata": {
        "id": "CAm-3F8-rvpg"
      },
      "source": [
        "##Tarefa 02 - Faça um Programa que peça um valor e mostre na tela se o valor é positivo ou negativo."
      ]
    },
    {
      "cell_type": "code",
      "metadata": {
        "colab": {
          "base_uri": "https://localhost:8080/"
        },
        "id": "2erx_peir0U_",
        "outputId": "48c15174-fcd8-4ec9-fd34-5322409e5d58"
      },
      "source": [
        "valor = float(input('Digite um número: '))\n",
        "resposta = \"positivo\"\n",
        "\n",
        "if valor < 0:\n",
        "  resposta = \"negativo\"\n",
        "\n",
        "print(f\"O valor digitado é {resposta}\")"
      ],
      "execution_count": null,
      "outputs": [
        {
          "output_type": "stream",
          "text": [
            "Digite um número: -36\n",
            "O valor digitado é negativo\n"
          ],
          "name": "stdout"
        }
      ]
    },
    {
      "cell_type": "markdown",
      "metadata": {
        "id": "yYw-3p8br9KQ"
      },
      "source": [
        "##Tarefa 03 - Faça um Programa que verifique se uma letra digitada é \"F\" ou \"M\". Conforme a letra escrever: F - Feminino, M - Masculino, Sexo Inválido."
      ]
    },
    {
      "cell_type": "code",
      "metadata": {
        "colab": {
          "base_uri": "https://localhost:8080/"
        },
        "id": "4tzX-s2rsAhA",
        "outputId": "379d164e-1875-415b-c778-bc4fd31abada"
      },
      "source": [
        "letraSexo = input(\"Digite a inicial do seu sexo: \")\n",
        "\n",
        "if letraSexo.upper() == 'H':\n",
        "  print(\"Homem\")\n",
        "elif letraSexo.upper() == 'M':\n",
        "  print(\"Mulher\")\n",
        "else:\n",
        "  print(\"Sexo inválido\")"
      ],
      "execution_count": null,
      "outputs": [
        {
          "output_type": "stream",
          "text": [
            "Digite a inicial do seu sexo: h\n",
            "Homem\n"
          ],
          "name": "stdout"
        }
      ]
    },
    {
      "cell_type": "markdown",
      "metadata": {
        "id": "HKIB8B9psG-Q"
      },
      "source": [
        "##Tarefa 04 - Faça um Programa que verifique se uma letra digitada é vogal ou consoante. "
      ]
    },
    {
      "cell_type": "code",
      "metadata": {
        "colab": {
          "base_uri": "https://localhost:8080/"
        },
        "id": "U54zJDUmsMgw",
        "outputId": "780a3f7b-df94-4ab4-8a94-3ba0d590e168"
      },
      "source": [
        "letra = input(\"Digite uma letra: \")\n",
        "\n",
        "if letra.upper() == 'A' or letra.upper() == 'E' or letra.upper() == 'I' or letra.upper() == 'O' or letra.upper() == 'U':\n",
        "  print(\"vogal\")\n",
        "else: \n",
        "  print(\"consoante\")"
      ],
      "execution_count": null,
      "outputs": [
        {
          "output_type": "stream",
          "text": [
            "Digite uma letra: y\n",
            "consoante\n"
          ],
          "name": "stdout"
        }
      ]
    },
    {
      "cell_type": "markdown",
      "metadata": {
        "id": "LotpOCbAsUsg"
      },
      "source": [
        "##Tarefa 05 - Faça um programa para a leitura de duas notas parciais de um aluno. O programa deve calcular a média alcançada por aluno e apresentar:\n",
        "*   A mensagem \"Aprovado\", se a média alcançada for maior ou igual a sete;\n",
        "*   A mensagem \"Reprovado\", se a média for menor do que sete;\n",
        "*   A mensagem \"Aprovado com Distinção\", se a média for igual a dez."
      ]
    },
    {
      "cell_type": "code",
      "metadata": {
        "colab": {
          "base_uri": "https://localhost:8080/"
        },
        "id": "l5RtPrMKsiB0",
        "outputId": "3c616c18-6c09-4990-e180-a22b4a7f8a81"
      },
      "source": [
        "nota1 = float(input(\"Digite a primeira nota: \"))\n",
        "nota2 = float(input(\"Digite a segunda nota: \"))\n",
        "media = (nota1+nota2)/2\n",
        "\n",
        "if media == 10:\n",
        "  print(\"Aprovado com Distinção\")\n",
        "elif media >= 7:\n",
        "  print(\"Aprovado\")\n",
        "else:\n",
        "  print(\"Reprovado\")"
      ],
      "execution_count": null,
      "outputs": [
        {
          "output_type": "stream",
          "text": [
            "Digite a primeira nota: 5\n",
            "Digite a segunda nota: 4.5\n",
            "Reprovado\n"
          ],
          "name": "stdout"
        }
      ]
    },
    {
      "cell_type": "markdown",
      "metadata": {
        "id": "b5iiDUH2spUR"
      },
      "source": [
        "##Tarefa 06 - Faça um Programa que leia três números e mostre o maior deles."
      ]
    },
    {
      "cell_type": "code",
      "metadata": {
        "colab": {
          "base_uri": "https://localhost:8080/"
        },
        "id": "L34LKGvastRx",
        "outputId": "0423c1fa-13c5-43bc-d934-f271725afc47"
      },
      "source": [
        "num1 = float(input(\"Digite o primeiro número: \"))\n",
        "num2 = float(input(\"Digite o segundo número: \"))\n",
        "num3 = float(input(\"Digite o terceiro número: \"))\n",
        "\n",
        "if (num1 > num2) and (num1 > num3):\n",
        "  print(num1)\n",
        "elif (num2 > num1) and (num2 > num3):\n",
        "  print(num2)\n",
        "else:\n",
        "  print(num3)"
      ],
      "execution_count": null,
      "outputs": [
        {
          "output_type": "stream",
          "text": [
            "Digite o primeiro número: 5\n",
            "Digite o segundo número: 9\n",
            "Digite o terceiro número: 4\n",
            "9.0\n"
          ],
          "name": "stdout"
        }
      ]
    },
    {
      "cell_type": "markdown",
      "metadata": {
        "id": "9JpnmtCLs6JC"
      },
      "source": [
        "##Tarefa 07 - Faça um Programa que leia três números e mostre o maior e o menor deles."
      ]
    },
    {
      "cell_type": "code",
      "metadata": {
        "colab": {
          "base_uri": "https://localhost:8080/"
        },
        "id": "UKQCZ6_utArp",
        "outputId": "608c90ac-a04d-4a0a-9f58-a384aad7413d"
      },
      "source": [
        "num1 = float(input(\"Digite o primeiro número: \"))\n",
        "num2 = float(input(\"Digite o segundo número: \"))\n",
        "num3 = float(input(\"Digite o terceiro número: \"))\n",
        "\n",
        "if (num1 > num2) and (num1 > num3):\n",
        "  maior = num1\n",
        "elif (num2 > num1) and (num2 > num3):\n",
        "  maior = num2\n",
        "else:\n",
        "  maior = num3\n",
        "\n",
        "if (num1 < num2) and (num1 < num3):\n",
        "  menor = num1\n",
        "elif (num2 < num1) and (num2 < num3):\n",
        "  menor = num2\n",
        "else:\n",
        "  menor = num3\n",
        "\n",
        "print(f'O maior número é {maior} e o menor númeoro é {menor}')"
      ],
      "execution_count": null,
      "outputs": [
        {
          "output_type": "stream",
          "text": [
            "Digite o primeiro número: 8\n",
            "Digite o segundo número: 2\n",
            "Digite o terceiro número: 45\n",
            "O maior número é 45.0 e o menor númeoro é 2.0\n"
          ],
          "name": "stdout"
        }
      ]
    },
    {
      "cell_type": "markdown",
      "metadata": {
        "id": "Z0rQI8LstHQx"
      },
      "source": [
        "##Tarefa 08 - Faça um programa que pergunte o preço de três produtos e informe qual produto você deve comprar, sabendo que a decisão é sempre pelo mais barato."
      ]
    },
    {
      "cell_type": "code",
      "metadata": {
        "colab": {
          "base_uri": "https://localhost:8080/"
        },
        "id": "VPk4665itLLA",
        "outputId": "47b31ac7-e820-4720-b273-5c3b60a1c19c"
      },
      "source": [
        "num1 = float(input(\"Digite o preço de primeiro produto: \"))\n",
        "num2 = float(input(\"Digite o preço de segundo produto: \"))\n",
        "num3 = float(input(\"Digite o preço de terceiro produto: \"))\n",
        "\n",
        "if (num1 < num2) and (num1 < num3):\n",
        "  menor = num1\n",
        "elif (num2 < num1) and (num2 < num3):\n",
        "  menor = num2\n",
        "else:\n",
        "  menor = num3\n",
        "\n",
        "print(f'Deve-se comprar o produto de valor R${menor:.2f}')"
      ],
      "execution_count": null,
      "outputs": [
        {
          "output_type": "stream",
          "text": [
            "Digite o preço de primeiro produto: 56\n",
            "Digite o preço de segundo produto: 24\n",
            "Digite o preço de terceiro produto: 89\n",
            "Deve-se comprar o produto de valor R$24.00\n"
          ],
          "name": "stdout"
        }
      ]
    },
    {
      "cell_type": "markdown",
      "metadata": {
        "id": "9IrkXYeOtTs4"
      },
      "source": [
        "##Tarefa 09 - Faça um Programa que leia três números e mostre-os em ordem decrescente."
      ]
    },
    {
      "cell_type": "code",
      "metadata": {
        "colab": {
          "base_uri": "https://localhost:8080/"
        },
        "id": "mZdF3ELvtXKA",
        "outputId": "b52f01df-9dbe-485a-fe5b-4ace33578bc5"
      },
      "source": [
        "num1 = float(input(\"Digite o primeiro número: \"))\n",
        "num2 = float(input(\"Digite o segundo número: \"))\n",
        "num3 = float(input(\"Digite o terceiro número: \"))\n",
        "\n",
        "lista = [num1,num2,num3]\n",
        "lista.sort()\n",
        "print(f'O maior número é {lista[2]}, o segundo maior é {lista[1]} e o menor é {lista[0]}')"
      ],
      "execution_count": null,
      "outputs": [
        {
          "output_type": "stream",
          "text": [
            "Digite o primeiro número: 5\n",
            "Digite o segundo número: 89\n",
            "Digite o terceiro número: 12\n",
            "O maior número é 89.0, o segundo maior é 12.0 e o menor é 5.0\n"
          ],
          "name": "stdout"
        }
      ]
    },
    {
      "cell_type": "markdown",
      "metadata": {
        "id": "w7_DAyqPtmFv"
      },
      "source": [
        "##Tarefa 10 - Faça um Programa que pergunte em que turno você estuda. Peça para digitar M-matutino ou V-Vespertino ou N- Noturno. Imprima a mensagem \"Bom Dia!\", \"Boa Tarde!\" ou \"Boa Noite!\" ou \"Valor Inválido!\", conforme o caso."
      ]
    },
    {
      "cell_type": "code",
      "metadata": {
        "colab": {
          "base_uri": "https://localhost:8080/"
        },
        "id": "5EqekMtyttMj",
        "outputId": "d7606594-414c-4932-d0e1-e740c3987473"
      },
      "source": [
        "turno = input(\"Em qual turno você estuda? Responda com M-matutino, V-Vespertino ou N-Noturno \")\n",
        "\n",
        "if turno.upper() == 'M':\n",
        "  print('Bom Dia!')\n",
        "elif turno.upper() == 'V':\n",
        "  print(\"Boa Tarde!\")\n",
        "elif turno.upper() == 'N':\n",
        "  print(\"Boa Noite!\")\n",
        "else:\n",
        "  print(\"Valor Invávido!\")"
      ],
      "execution_count": null,
      "outputs": [
        {
          "output_type": "stream",
          "text": [
            "Em qual turno você estuda? Responda com M-matutino, V-Vespertino ou N-Noturno n\n",
            "Boa Noite!\n"
          ],
          "name": "stdout"
        }
      ]
    },
    {
      "cell_type": "markdown",
      "metadata": {
        "id": "5pQYAmVMtydy"
      },
      "source": [
        "##Tarefa 11 - As Organizações Tabajara resolveram dar um aumento de salário aos seus colaboradores e lhe contrataram para desenvolver o programa que calculará os reajustes.\n",
        "\n",
        "### Faça um programa que recebe o salário de um colaborador e o reajuste segundo o seguinte critério, baseado no salário atual:\n",
        "*   salários até 280,00 reais (incluindo) : aumento de 20%\n",
        "*   salários entre 280,00 e 700,00 reais  : aumento de 15%\n",
        "*   salários entre 700,00 e 1500,00 reais  : aumento de 10%\n",
        "*   salários de 1500,00 reais  em diante : aumento de 5% \n",
        "###Após o aumento ser realizado, informe na tela:\n",
        "*   o salário antes do reajuste;\n",
        "*   o percentual de aumento aplicado;\n",
        "*   o valor do aumento;\n",
        "*   o novo salário, após o aumento.\n"
      ]
    },
    {
      "cell_type": "code",
      "metadata": {
        "colab": {
          "base_uri": "https://localhost:8080/"
        },
        "id": "CrzC1tFout3J",
        "outputId": "582c9a15-2347-48bd-8846-1e83fc3a9f5d"
      },
      "source": [
        "salarioBase = float(input(\"Digite o valor do salário do funcionário: \"))\n",
        "\n",
        "if salarioBase <= 280:\n",
        "  aumento = 20\n",
        "elif salarioBase <= 700:\n",
        "  aumento = 15\n",
        "elif salarioBase <= 1500:\n",
        "  aumento = 10\n",
        "else:\n",
        "  aumento = 5   \n",
        "\n",
        "salarioNovo = salarioBase * ((aumento/100)+1)\n",
        "valorAumento = salarioNovo - salarioBase\n",
        "\n",
        "print(f'O salário antes do reajuste: R$ {salarioBase:.2f} \\n'\n",
        "f'O percentual de aumento aplicado: {aumento:.0f}% \\n'\n",
        "f'O valor do aumento: R$ {valorAumento:.2f} \\n'\n",
        "f'O salário após o aumento: R$ {salarioNovo:.2f}')"
      ],
      "execution_count": null,
      "outputs": [
        {
          "output_type": "stream",
          "text": [
            "Digite o valor do salário do funcionário: 6000\n",
            "O salário antes do reajuste: R$ 6000.00 \n",
            "O percentual de aumento aplicado: 5% \n",
            "O valor do aumento: R$ 300.00 \n",
            "O salário após o aumento: R$ 6300.00\n"
          ],
          "name": "stdout"
        }
      ]
    },
    {
      "cell_type": "markdown",
      "metadata": {
        "id": "JrlfrQrZvGBw"
      },
      "source": [
        "##Tarefa 12 - Faça um programa para o cálculo de uma folha de pagamento, sabendo que os descontos são do Imposto de Renda, que depende do salário bruto (conforme tabela abaixo) e 10% para o INSS e que o FGTS corresponde a 11% do Salário Bruto, mas não é descontado (é a empresa que deposita). O Salário Líquido corresponde ao Salário Bruto menos os descontos. O programa deverá pedir ao usuário o valor da sua hora e a quantidade de horas trabalhadas no mês.\n",
        "\n",
        "Desconto do IR:\n",
        "\n",
        "Salário Bruto até 900 (inclusive) - isento\n",
        "\n",
        "Salário Bruto até 1500 (inclusive) - desconto de 5%\n",
        "\n",
        "Salário Bruto até 2500 (inclusive) - desconto de 10%\n",
        "\n",
        "Salário Bruto acima de 2500 - desconto de 20% \n",
        "\n",
        "### Imprima na tela as informações, dispostas conforme o exemplo abaixo. No exemplo o valor da hora é 5 e a quantidade de hora é 220.\n",
        "        Salário Bruto: (5 * 220)        : R$ 1100,00\n",
        "        (-) IR (5%)                     : R$   55,00  \n",
        "        (-) INSS ( 10%)                 : R$  110,00\n",
        "        FGTS (11%)                      : R$  121,00\n",
        "        Total de descontos              : R$  165,00\n",
        "        Salário Liquido                 : R$  935,00"
      ]
    },
    {
      "cell_type": "code",
      "metadata": {
        "colab": {
          "base_uri": "https://localhost:8080/"
        },
        "id": "Qz_QvkJQvwtw",
        "outputId": "13c2cdc0-33a0-40c7-f113-108a4af1e1b2"
      },
      "source": [
        "salarioHora = float(input(\"Digite quanto você recebe de salário por hora: \"))\n",
        "horas = float(input(\"Digite quantas horas você trabalha por mês: \"))\n",
        "salarioMensalBruto = salarioHora * horas\n",
        "\n",
        "if salarioMensalBruto <= 900:\n",
        "  descontoIR = 0\n",
        "elif salarioMensalBruto <= 1500:\n",
        "  descontoIR = 5\n",
        "elif salarioMensalBruto <= 2500:\n",
        "  descontoIR = 10\n",
        "else:\n",
        "  descontoIR = 20   \n",
        "\n",
        "ir = salarioMensalBruto * (descontoIR/100)\n",
        "inss = 0.1*salarioMensalBruto\n",
        "fgts = 0.11*salarioMensalBruto\n",
        "salarioMensalLiquido = salarioMensalBruto - ir - inss\n",
        "\n",
        "print(f'Salário Bruto: ({horas:.0f} * {salarioHora:.0f}) \\t: R${salarioMensalBruto:.2f} \\n'  \n",
        "f'(-) IR ({descontoIR:.0f}%) \\t\\t\\t: R${ir:.2f} \\n'\n",
        "f'(-) INSS (10%) \\t\\t\\t: R${inss:.2f} \\n'\n",
        "f'FGTS (11%) \\t\\t\\t: R${fgts:.2f} \\n'\n",
        "f'Salário Liquido \\t\\t: R${salarioMensalLiquido:.2f}')"
      ],
      "execution_count": null,
      "outputs": [
        {
          "output_type": "stream",
          "text": [
            "Digite quanto você recebe de salário por hora: 50\n",
            "Digite quantas horas você trabalha por mês: 150\n",
            "Salário Bruto: (150 * 50) \t: R$7500.00 \n",
            "(-) IR (20%) \t\t\t: R$1500.00 \n",
            "(-) INSS (10%) \t\t\t: R$750.00 \n",
            "FGTS (11%) \t\t\t: R$825.00 \n",
            "Salário Liquido \t\t: R$5250.00\n"
          ],
          "name": "stdout"
        }
      ]
    },
    {
      "cell_type": "markdown",
      "metadata": {
        "id": "RPhn293-wMHR"
      },
      "source": [
        "##Tarefa 13 - Faça um Programa que leia um número e exiba o dia correspondente da semana. (1-Domingo, 2- Segunda, etc.), se digitar outro valor deve aparecer valor inválido."
      ]
    },
    {
      "cell_type": "code",
      "metadata": {
        "colab": {
          "base_uri": "https://localhost:8080/"
        },
        "id": "M2EgMjRpwQtY",
        "outputId": "27a5e3f2-e2ce-4eb0-fef2-11a9fd877024"
      },
      "source": [
        "numSemana = int(input(\"Digite o número da semana: \"))\n",
        "listaNomeSemana = ['Domingo', 'Segunda', 'Terça', 'Quarta', 'Quinta', 'Sexta', 'Sábado']\n",
        "\n",
        "if numSemana in range(1, 8):\n",
        "  print(listaNomeSemana[numSemana-1])\n",
        "else:\n",
        "  print(\"Valor Inválido\")"
      ],
      "execution_count": null,
      "outputs": [
        {
          "output_type": "stream",
          "text": [
            "Digite o número da semana: 7\n",
            "Sábado\n"
          ],
          "name": "stdout"
        }
      ]
    },
    {
      "cell_type": "markdown",
      "metadata": {
        "id": "2iV0CIHWwaxT"
      },
      "source": [
        "##Tarefa 14 - Faça um programa que lê as duas notas parciais obtidas por um aluno numa disciplina ao longo de um semestre, e calcule a sua média. A atribuição de conceitos obedece à tabela abaixo:\n",
        "\n",
        "    Média de Aproveitamento  Conceito\n",
        "    Entre 9.0 e 10.0         A\n",
        "    Entre 7.5 e 9.0          B\n",
        "    Entre 6.0 e 7.5          C\n",
        "    Entre 4.0 e 6.0          D\n",
        "    Entre 4.0 e zero         E\n",
        "\n",
        "O algoritmo deve mostrar na tela as notas, a média, o conceito correspondente e a mensagem “APROVADO” se o conceito for A, B ou C ou “REPROVADO” se o conceito for D ou E."
      ]
    },
    {
      "cell_type": "code",
      "metadata": {
        "colab": {
          "base_uri": "https://localhost:8080/"
        },
        "id": "CHkrWDqrw0qB",
        "outputId": "8e6145d0-594c-49d7-f3a6-f3fe96f356a3"
      },
      "source": [
        "nota1 = float(input(\"Digite a primeira nota: \"))\n",
        "nota2 = float(input(\"Digite a segunda nota: \"))\n",
        "media = (nota1+nota2)/2\n",
        "\n",
        "if media >= 9:\n",
        "  conceito = \"A\"\n",
        "  aprovacao = \"APROVADO\"\n",
        "elif media >= 7.5:\n",
        "  conceito = \"B\"\n",
        "  aprovacao = \"APROVADO\"\n",
        "elif media >= 6:\n",
        "  conceito = \"C\"\n",
        "  aprovacao = \"APROVADO\"\n",
        "elif media >= 4:\n",
        "  conceito = \"D\"\n",
        "  aprovacao = \"REPROVADO\"\n",
        "else:\n",
        "  conceito = \"E\"\n",
        "  aprovacao = \"REPROVADO\"\n",
        "\n",
        "print(f'A média do aluno foi {media:.2f}, com o conceito {conceito}, assim estando {aprovacao} na disciplina.')"
      ],
      "execution_count": null,
      "outputs": [
        {
          "output_type": "stream",
          "text": [
            "Digite a primeira nota: 5\n",
            "Digite a segunda nota: 4.5\n",
            "A média do aluno foi 4.75, com o conceito D, assim estando REPROVADO na disciplina.\n"
          ],
          "name": "stdout"
        }
      ]
    },
    {
      "cell_type": "markdown",
      "metadata": {
        "id": "7xOyy_ylw_db"
      },
      "source": [
        "##Tarefa 15 - Faça um Programa que peça os 3 lados de um triângulo. O programa deverá informar se os valores podem ser um triângulo. Indique, caso os lados formem um triângulo, se o mesmo é: equilátero, isósceles ou escaleno.\n",
        "\n",
        "Dicas:\n",
        "*   Três lados formam um triângulo quando a soma de quaisquer dois lados for maior que o terceiro;\n",
        "*   Triângulo Equilátero: três lados iguais;\n",
        "*   Triângulo Isósceles: quaisquer dois lados iguais;\n",
        "*   Triângulo Escaleno: três lados diferentes.\n"
      ]
    },
    {
      "cell_type": "code",
      "metadata": {
        "colab": {
          "base_uri": "https://localhost:8080/"
        },
        "id": "TQ_vzrOExW1h",
        "outputId": "4c2883f3-b18c-4748-9c97-c6a06fec9ac5"
      },
      "source": [
        "lado1 = float(input(\"Digite o valor do 1º lado do triângulo em centímetros: \"))\n",
        "lado2 = float(input(\"Digite o valor do 2º lado do triângulo em centímetros: \"))\n",
        "lado3 = float(input(\"Digite o valor do 3º lado do triângulo em centímetros: \"))\n",
        "\n",
        "if (lado1 + lado2 <= lado3) or (lado1 + lado3 <= lado2) or (lado3 + lado2 <= lado1):\n",
        "  print(\"Os valores digitados não formam um triângulo\")\n",
        "else:\n",
        "  if (lado1 == lado2 == lado3):\n",
        "    formato = \"Triângulo Equilátero\"\n",
        "  elif (lado1 == lado2) or (lado1 == lado3) or (lado3 == lado2):\n",
        "    formato = \"Triângulo Isósceles\"\n",
        "  else:\n",
        "    formato = \"Triângulo Escaleno\"\n",
        "  print(f'Os valores digitados formam um {formato}')\n"
      ],
      "execution_count": null,
      "outputs": [
        {
          "output_type": "stream",
          "text": [
            "Digite o valor do 1º lado do triângulo em centímetros: 5\n",
            "Digite o valor do 2º lado do triângulo em centímetros: 8\n",
            "Digite o valor do 3º lado do triângulo em centímetros: 3\n",
            "Os valores digitados não formam um triângulo\n"
          ],
          "name": "stdout"
        }
      ]
    },
    {
      "cell_type": "markdown",
      "metadata": {
        "id": "YUg7G-d1xfWE"
      },
      "source": [
        "##Tarefa 16 - Faça um programa que calcule as raízes de uma equação do segundo grau, na forma ax² + bx + c. O programa deverá pedir os valores de a, b e c e fazer as consistências, informando ao usuário nas seguintes situações:\n",
        "*   Se o usuário informar o valor de A igual a zero, a equação não é do segundo grau e o programa não deve fazer pedir os demais valores, sendo encerrado;\n",
        "*   Se o delta calculado for negativo, a equação não possui raízes reais. Informe ao usuário e encerre o programa;\n",
        "*   Se o delta calculado for igual a zero a equação possui apenas uma raiz real; informe-a ao usuário;\n",
        "*   Se o delta for positivo, a equação possui duas raiz reais; informe-as ao usuário. "
      ]
    },
    {
      "cell_type": "code",
      "metadata": {
        "colab": {
          "base_uri": "https://localhost:8080/"
        },
        "id": "mJv8wvZVx__a",
        "outputId": "76a451a2-50b2-401e-e4a0-a1e5da930c87"
      },
      "source": [
        "a = float(input(\"Para a equação ax² + bx + c = 0 digite o valor de a: \"))\n",
        "\n",
        "if a == 0:\n",
        "  print(\"Quando a é igual a 0 a equação não é do segundo grau.\")\n",
        "else:\n",
        "  b = float(input(\"Digite o valor de b: \"))\n",
        "  c = float(input(\"Digite o valor de c: \"))\n",
        "  if ((b**2)-(4*a*c)) < 0:\n",
        "    print(\"A equação não possui raízes reais.\")\n",
        "  elif ((b**2)-(4*a*c)) == 0:\n",
        "    x = (-b)/(2*a)\n",
        "    print(f\"A equação possui apenas uma raiz: x = {x:.2f}\")\n",
        "  else:\n",
        "    x1 = (-b+(((b**2)-(4*a*c))**0.5))/(2*a)\n",
        "    x2 = (-b-(((b**2)-(4*a*c))**0.5))/(2*a)\n",
        "    print(f\"A equação possui duas raizes: x1 = {x1:.2f} e x2 = {x2:.2f}\")"
      ],
      "execution_count": null,
      "outputs": [
        {
          "output_type": "stream",
          "text": [
            "Para a equação ax² + bx + c = 0 digite o valor de a: 1\n",
            "Digite o valor de b: 14\n",
            "Digite o valor de c: 2\n",
            "A equação possui duas raizes: x1 = -0.14 e x2 = -13.86\n"
          ],
          "name": "stdout"
        }
      ]
    },
    {
      "cell_type": "markdown",
      "metadata": {
        "id": "po3hlQe7yPWy"
      },
      "source": [
        "##Tarefa 17 - Faça um Programa que peça um número correspondente a um determinado ano e em seguida informe se este ano é ou não bissexto."
      ]
    },
    {
      "cell_type": "code",
      "metadata": {
        "colab": {
          "base_uri": "https://localhost:8080/"
        },
        "id": "T7yYITBGySRK",
        "outputId": "191a3e78-0e09-4297-cc1e-e4de9de9ddfa"
      },
      "source": [
        "ano = float(input(\"Digite um ano: \"))\n",
        "\n",
        "if (ano%4 != 0):\n",
        "  print(\"O ano digitado não é bissexto\")\n",
        "elif (ano%100 == 0) and (ano%400 != 0):\n",
        "  print(\"O ano digitado não é bissexto\")\n",
        "else:\n",
        "  print(\"O ano digitado é bissexto\")"
      ],
      "execution_count": null,
      "outputs": [
        {
          "output_type": "stream",
          "text": [
            "Digite um ano: 2022\n",
            "O ano digitado não é bissexto\n"
          ],
          "name": "stdout"
        }
      ]
    },
    {
      "cell_type": "markdown",
      "metadata": {
        "id": "vtQhdeKbyexi"
      },
      "source": [
        "##Tarefa 18 - Faça um Programa que peça uma data no formato dd/mm/aaaa e determine se a mesma é uma data válida."
      ]
    },
    {
      "cell_type": "code",
      "metadata": {
        "colab": {
          "base_uri": "https://localhost:8080/"
        },
        "id": "jXIV2flgynE6",
        "outputId": "02c2456a-b9c0-41e7-bc88-af8a1c59f7e3"
      },
      "source": [
        "dataDigitada = str(input(\"Digite uma data no formato dd/mm/aaaa: \"))\n",
        "dataDigitada = dataDigitada.split('/')\n",
        "dia = int(dataDigitada[0])\n",
        "mes = int(dataDigitada[1])\n",
        "ano = int(dataDigitada[2])\n",
        "\n",
        "def Bissexto(ano):\n",
        "  if (ano%4 != 0):\n",
        "    return False\n",
        "  elif (ano%100 == 0) and (ano%400 != 0):\n",
        "    return False\n",
        "  else:\n",
        "    return True\n",
        "\n",
        "def ValidaAno(ano):\n",
        "  if ano >= 1:\n",
        "    return True\n",
        "  else:\n",
        "    return False\n",
        "\n",
        "def ValidaMes(mes):\n",
        "  if (mes >= 1) and (mes <= 12):\n",
        "    return True\n",
        "  else:\n",
        "    return False\n",
        "\n",
        "def ValidaDia(dia, mes):\n",
        "  if mes in [1,3,5,7,8,10,12]:\n",
        "    if (dia >= 1) and (dia <= 31):\n",
        "      return True\n",
        "    else:\n",
        "      return False\n",
        "  elif mes in [4,6,9,11]:\n",
        "    if (dia >= 1) and (dia <= 30):\n",
        "      return True\n",
        "    else:\n",
        "      return False\n",
        "  elif mes==2:\n",
        "    if Bissexto(ano)==True:\n",
        "      if (dia >= 1) and (dia <= 29):\n",
        "        return True\n",
        "      else:\n",
        "        return False\n",
        "    else:\n",
        "      if (dia >= 1) and (dia <= 28):\n",
        "        return True\n",
        "      else:\n",
        "        return False\n",
        "\n",
        "if ValidaAno(ano)==True and ValidaMes(mes)==True and ValidaDia(dia,mes)==True:\n",
        "  print(f'A data {dia}/{mes}/{ano} é válida.')\n",
        "else:\n",
        "  print(f'A data {dia}/{mes}/{ano} não é válida.')\n"
      ],
      "execution_count": null,
      "outputs": [
        {
          "output_type": "stream",
          "text": [
            "Digite uma data no formato dd/mm/aaaa: 29/02/2021\n",
            "A data 29/2/2021 não é válida.\n"
          ],
          "name": "stdout"
        }
      ]
    },
    {
      "cell_type": "markdown",
      "metadata": {
        "id": "-5UvYzldy3Gl"
      },
      "source": [
        "##Tarefa 19 - Faça um Programa que leia um número inteiro maior que 0 e menor que 1000 e imprima a quantidade de centenas, dezenas e unidades do mesmo.\n",
        "Observando os termos no plural a colocação do \"e\", da vírgula entre outros. Exemplo:\n",
        "*   326 = 3 centenas, 2 dezenas e 6 unidades\n",
        "*   12 = 1 dezena e 2 unidades\n",
        "\n",
        "Testar com: 326, 300, 100, 320, 310,305, 301, 101, 311, 111, 25, 20, 10, 21, 11, 1, 7 e 16\n",
        "\n"
      ]
    },
    {
      "cell_type": "code",
      "metadata": {
        "colab": {
          "base_uri": "https://localhost:8080/"
        },
        "id": "gzusyhCYzKJU",
        "outputId": "520324e5-4a5f-41a6-adae-124ba3c4d640"
      },
      "source": [
        "num = input(\"Digite um número inteiro meior que zero e menor que 1000: \")\n",
        "listaResultado = [0 for _ in range(3)]\n",
        "listaNumeros = list(num)\n",
        "for i in range(1, len(listaNumeros)+1):\n",
        "  listaResultado[-i] = listaNumeros[-i]\n",
        "\n",
        "centena = int(listaResultado[-3])\n",
        "dezena = int(listaResultado[-2])\n",
        "unidade = int(listaResultado[-1])\n",
        "\n",
        "if centena > 1:\n",
        "  pluralCentena = \"centenas\"\n",
        "else:\n",
        "  pluralCentena = \"centena\"\n",
        "\n",
        "if dezena > 1:\n",
        "  pluralDezena = \"dezenas\"\n",
        "else:\n",
        "  pluralDezena = \"dezena\"\n",
        "\n",
        "if unidade > 1:\n",
        "  pluralUnidade = \"unidades\"\n",
        "else:\n",
        "  pluralUnidade = \"unidade\"\n",
        "\n",
        "if centena > 0:\n",
        "  print(f\"{centena} {pluralCentena}, {dezena} {pluralDezena} e {unidade} {pluralUnidade}.\")\n",
        "elif dezena > 0:\n",
        "  print(f\"{dezena} {pluralDezena} e {unidade} {pluralUnidade}.\")\n",
        "else:\n",
        "  print(f\"{unidade} {pluralUnidade}.\")"
      ],
      "execution_count": null,
      "outputs": [
        {
          "output_type": "stream",
          "text": [
            "Digite um número inteiro meior que zero e menor que 1000: 25\n",
            "2 dezenas e 5 unidades.\n"
          ],
          "name": "stdout"
        }
      ]
    },
    {
      "cell_type": "markdown",
      "metadata": {
        "id": "7fV5ZJ_Nzm-6"
      },
      "source": [
        "##Tarefa 20 - Faça um Programa para um caixa eletrônico. O programa deverá perguntar ao usuário a valor do saque e depois informar quantas notas de cada valor serão fornecidas. As notas disponíveis serão as de 1, 5, 10, 50 e 100 reais. O valor mínimo é de 10 reais e o máximo de 600 reais. O programa não deve se preocupar com a quantidade de notas existentes na máquina.\n",
        "Exemplo 1: Para sacar a quantia de 256 reais, o programa fornece duas notas de 100, uma nota de 50, uma nota de 5 e uma nota de 1;\n",
        "  \n",
        "Exemplo 2: Para sacar a quantia de 399 reais, o programa fornece três notas de 100, uma nota de 50, quatro notas de 10, uma nota de 5 e quatro notas de 1."
      ]
    },
    {
      "cell_type": "code",
      "metadata": {
        "colab": {
          "base_uri": "https://localhost:8080/"
        },
        "id": "nl9tK910zy16",
        "outputId": "0456ba49-746c-48b5-c0b8-e62242ae0635"
      },
      "source": [
        "def Plural(numNotas):\n",
        "  if numNotas in [1,0]:\n",
        "    return \"nota\"\n",
        "  else:\n",
        "    return \"notas\"\n",
        "\n",
        "valorSacado = int(input(\"Digite o valor a ser sacado (entre 10 e 600 reais): R$\"))\n",
        "\n",
        "if (valorSacado <10) or (valorSacado >600):\n",
        "  print(\"Valor inválido.\")\n",
        "else:\n",
        "  nota100 = valorSacado//100\n",
        "  resto100 = valorSacado-(nota100*100)\n",
        "  nota50 = resto100//50\n",
        "  resto50 = resto100-(nota50*50)\n",
        "  nota10 = resto50//10\n",
        "  resto10 = resto50-(nota10*10)\n",
        "  nota5 = resto10//5\n",
        "  resto5 = resto10-(nota5*5)\n",
        "  nota1 = resto5//1\n",
        "\n",
        "  numeroExtenso = {0: \"nenhuma\", 1: \"uma\", 2: \"duas\", 3: \"três\", 4: \"quatro\", 5: \"cinco\", 6: \"seis\"}\n",
        "  \n",
        "  print(f\"Para sacar a quantia de {valorSacado} reais, o programa fornece: \"\n",
        "  f'\\n{numeroExtenso.get(nota100)} {Plural(nota100)} de 100'\n",
        "  f'\\n{numeroExtenso.get(nota50)} {Plural(nota50)} de 50'\n",
        "  f'\\n{numeroExtenso.get(nota10)} {Plural(nota10)} de 10'\n",
        "  f'\\n{numeroExtenso.get(nota5)} {Plural(nota5)} de 5'\n",
        "  f'\\n{numeroExtenso.get(nota1)} {Plural(nota1)} de 1')\n"
      ],
      "execution_count": null,
      "outputs": [
        {
          "output_type": "stream",
          "text": [
            "Digite o valor a ser sacado (entre 10 e 600 reais): R$598\n",
            "Para sacar a quantia de 598 reais, o programa fornece: \n",
            "cinco notas de 100\n",
            "uma nota de 50\n",
            "quatro notas de 10\n",
            "uma nota de 5\n",
            "três notas de 1\n"
          ],
          "name": "stdout"
        }
      ]
    },
    {
      "cell_type": "markdown",
      "metadata": {
        "id": "5MgWeR3mz-Mq"
      },
      "source": [
        "##Tarefa 21 - Faça um Programa que peça um número inteiro e determine se ele é par ou impar. Dica: utilize o operador módulo (resto da divisão)."
      ]
    },
    {
      "cell_type": "code",
      "metadata": {
        "colab": {
          "base_uri": "https://localhost:8080/"
        },
        "id": "ipTVsZw20B35",
        "outputId": "8d8237be-ad26-4c32-8ae3-54f8b568c625"
      },
      "source": [
        "num = int(input(\"Digite um número inteiro: \"))\n",
        "\n",
        "if (num%2)==0:\n",
        "  print(\"É Par\")\n",
        "else:\n",
        "  print(\"É Ímpar\")"
      ],
      "execution_count": null,
      "outputs": [
        {
          "output_type": "stream",
          "text": [
            "Digite um número inteiro: 53\n",
            "É Ímpar\n"
          ],
          "name": "stdout"
        }
      ]
    },
    {
      "cell_type": "markdown",
      "metadata": {
        "id": "iNPyC7gr0IAC"
      },
      "source": [
        "##Tarefa 22 - Faça um Programa que peça um número e informe se o número é inteiro ou decimal. Dica: utilize uma função de arredondamento."
      ]
    },
    {
      "cell_type": "code",
      "metadata": {
        "colab": {
          "base_uri": "https://localhost:8080/"
        },
        "id": "QwWZjbdB0NgD",
        "outputId": "8799377b-bb7b-400a-9431-ca2d2eb1db22"
      },
      "source": [
        "num = float(input(\"Digite um número: \"))\n",
        "\n",
        "if (num%1) != 0.0:\n",
        "  print(\"O número é decimal\")\n",
        "else:\n",
        "  print(\"O número é inteiro\")"
      ],
      "execution_count": null,
      "outputs": [
        {
          "output_type": "stream",
          "text": [
            "Digite um número: 2.6\n",
            "O número é decimal\n"
          ],
          "name": "stdout"
        }
      ]
    },
    {
      "cell_type": "markdown",
      "metadata": {
        "id": "OY7WIVix0TLq"
      },
      "source": [
        "##Tarefa 23 - Faça um Programa que leia 2 números e em seguida pergunte ao usuário qual operação ele deseja realizar. O resultado da operação deve ser acompanhado de uma frase que diga se o número é:\n",
        "  par ou ímpar;\n",
        "\n",
        "  positivo ou negativo;\n",
        "  \n",
        "  inteiro ou decimal."
      ]
    },
    {
      "cell_type": "code",
      "metadata": {
        "colab": {
          "base_uri": "https://localhost:8080/"
        },
        "id": "K1vA7FQA0YUK",
        "outputId": "241a5c04-6ada-48fd-8fbc-79475a30e764"
      },
      "source": [
        "import operator\n",
        "\n",
        "num1 = float(input(\"Digite o primeiro número: \"))\n",
        "num2 = float(input(\"Digite o segundo número: \"))\n",
        "operacao = int(input(\"Qual operação deseja realizar? 1(+), 2(-), 3(*) e 4(/): \"))\n",
        "op = {1: operator.add, 2: operator.sub, 3: operator.mul, 4: operator.truediv}\n",
        "op_func = op[operacao]\n",
        "\n",
        "if operacao not in [1,2,3,4]:\n",
        "  print(\"Valor errado para operação.\")\n",
        "else:\n",
        "  if (operacao==4) and (num2==0.0):\n",
        "    print(\"Não é possível dividir por zero.\")\n",
        "  else:\n",
        "    resultado = op_func(num1, num2)\n",
        "\n",
        "print(f\"O resultado é {resultado:.2f}\")\n",
        "\n",
        "if (resultado%2)==0:\n",
        "  print(\"O resultado é Par\")\n",
        "else:\n",
        "  print(\"O resultado é Ímpar\")\n",
        "\n",
        "if resultado>=0:\n",
        "  print(\"O resultado é positivo\")\n",
        "else:\n",
        "  print(\"O resultado é negativo\")\n",
        "\n",
        "if (resultado%1) != 0.0:\n",
        "  print(\"O resultado é decimal\")\n",
        "else:\n",
        "  print(\"O resultado é inteiro\")"
      ],
      "execution_count": null,
      "outputs": [
        {
          "output_type": "stream",
          "text": [
            "Digite o primeiro número: 5\n",
            "Digite o segundo número: 12\n",
            "Qual operação deseja realizar? 1(+), 2(-), 3(*) e 4(/): 2\n",
            "O resultado é -7.00\n",
            "O resultado é Ímpar\n",
            "O resultado é negativo\n",
            "O resultado é inteiro\n"
          ],
          "name": "stdout"
        }
      ]
    },
    {
      "cell_type": "markdown",
      "metadata": {
        "id": "-T7zTbK70wXc"
      },
      "source": [
        "##Tarefa 24 - Faça um programa que faça 5 perguntas para uma pessoa sobre um crime. As perguntas são:\n",
        "  \"Telefonou para a vítima?\"\n",
        "\n",
        "  \"Esteve no local do crime?\"\n",
        "  \n",
        "  \"Mora perto da vítima?\"\n",
        "  \n",
        "  \"Devia para a vítima?\"\n",
        "  \n",
        "  \"Já trabalhou com a vítima?\"\n",
        " \n",
        " O programa deve no final emitir uma classificação sobre a participação da pessoa no crime. Se a pessoa responder positivamente a 2 questões ela deve ser classificada como \"Suspeita\", entre 3 e 4 como \"Cúmplice\" e 5 como \"Assassino\". Caso contrário, ele será classificado como \"Inocente\"."
      ]
    },
    {
      "cell_type": "code",
      "metadata": {
        "colab": {
          "base_uri": "https://localhost:8080/"
        },
        "id": "UqypqANw071K",
        "outputId": "6350ae0b-4a33-41d3-ae22-c38ce9429f75"
      },
      "source": [
        "positivos = 0\n",
        "resp =  input(\"Telefonou para a vítima? (S/N): \")\n",
        "if resp.upper()==\"S\":\n",
        "  positivos += 1\n",
        "resp =  input(\"Esteve no local do crime? (S/N): \")\n",
        "if resp.upper()==\"S\":\n",
        "  positivos += 1\n",
        "resp =  input(\"Mora perto da vítima? (S/N): \")\n",
        "if resp.upper()==\"S\":\n",
        "  positivos += 1\n",
        "resp =  input(\"Devia para a vítima? (S/N): \")\n",
        "if resp.upper()==\"S\":\n",
        "  positivos += 1\n",
        "resp =  input(\"Já trabalhou com a vítima? (S/N): \")\n",
        "if resp.upper()==\"S\":\n",
        "  positivos += 1\n",
        "\n",
        "if positivos==2:\n",
        "  print(\"Suspeito\")\n",
        "elif positivos in [3,4]:\n",
        "  print(\"Cúmplice\")\n",
        "elif positivos==5:\n",
        "  print(\"Assassino\")\n",
        "else:\n",
        "  print(\"Inocente\")"
      ],
      "execution_count": null,
      "outputs": [
        {
          "output_type": "stream",
          "text": [
            "Telefonou para a vítima? (S/N): n\n",
            "Esteve no local do crime? (S/N): s\n",
            "Mora perto da vítima? (S/N): n\n",
            "Devia para a vítima? (S/N): s\n",
            "Já trabalhou com a vítima? (S/N): s\n",
            "Cúmplice\n"
          ],
          "name": "stdout"
        }
      ]
    },
    {
      "cell_type": "markdown",
      "metadata": {
        "id": "7LHIVluk1For"
      },
      "source": [
        "##Tarefa 25 - Um posto está vendendo combustíveis com a seguinte tabela de descontos:\n",
        "\n",
        "###Álcool:\n",
        "  *   até 20 litros, desconto de 3% por litro\n",
        "  *   acima de 20 litros, desconto de 5% por litro\n",
        "\n",
        "###Gasolina:\n",
        "*   até 20 litros, desconto de 4% por litro\n",
        "*   acima de 20 litros, desconto de 6% por litro \n",
        "\n",
        "Escreva um algoritmo que leia o número de litros vendidos, o tipo de combustível (codificado da seguinte forma: A-álcool, G-gasolina), calcule e imprima o valor a ser pago pelo cliente sabendo-se que o preço do litro da gasolina é 2,50 reais o preço do litro do álcool é 1,90 reais."
      ]
    },
    {
      "cell_type": "code",
      "metadata": {
        "colab": {
          "base_uri": "https://localhost:8080/"
        },
        "id": "F6wNveN11jML",
        "outputId": "a2cad3d0-2840-4b68-dd78-adfacee8ec9b"
      },
      "source": [
        "litros = float(input(\"Quantos litros? \"))\n",
        "comb = input(\"Qual combustível? (G-Gasolina, A-Álcool)\")\n",
        "\n",
        "if comb.upper() not in [\"A\", \"G\"]:\n",
        "  print(\"Combustível inválido.\")\n",
        "else:\n",
        "  if comb.upper() == \"A\":\n",
        "    preco = 1.90\n",
        "    precobruto = litros * preco\n",
        "    if litros > 20:\n",
        "      precoLiq = precobruto * 0.95  \n",
        "    else:\n",
        "      precoLiq = precobruto * 0.97\n",
        "    print(f\"O preço a pagar é R${precoLiq:.2f}\")\n",
        "  else:\n",
        "    preco = 2.50\n",
        "    precobruto = litros * preco\n",
        "    if litros > 20:\n",
        "      precoLiq = precobruto * 0.94  \n",
        "    else:\n",
        "      precoLiq = precobruto * 0.96\n",
        "    \n",
        "    print(f\"O preço a pagar é R${precoLiq:.2f}\")\n",
        "\n"
      ],
      "execution_count": null,
      "outputs": [
        {
          "output_type": "stream",
          "text": [
            "Quantos litros? 56\n",
            "Qual combustível? (G-Gasolina, A-Álcool)g\n",
            "O preço a pagar é R$131.60\n"
          ],
          "name": "stdout"
        }
      ]
    },
    {
      "cell_type": "markdown",
      "metadata": {
        "id": "6eTz4SsH1zYj"
      },
      "source": [
        "##Tarefa 26 - Uma fruteira está vendendo frutas com a seguinte tabela de preços:\n",
        "\n",
        "                    Até 5 Kg                Acima de 5 Kg\n",
        "    Morango         R$ 2,50 por Kg          R$ 2,20 por Kg\n",
        "    Maçã            R$ 1,80 por Kg          R$ 1,50 por Kg\n",
        "\n",
        "Se o cliente comprar mais de 8 Kg em frutas ou o valor total da compra ultrapassar R$ 25,00, receberá ainda um desconto de 10% sobre este total. Escreva um algoritmo para ler a quantidade (em Kg) de morangos e a quantidade (em Kg) de maças adquiridas e escreva o valor a ser pago pelo cliente."
      ]
    },
    {
      "cell_type": "code",
      "metadata": {
        "colab": {
          "base_uri": "https://localhost:8080/"
        },
        "id": "LgdkGiyz2RLj",
        "outputId": "776a4477-e8d1-401f-d2f1-db1e076e5db1"
      },
      "source": [
        "pesoMaca = float(input(\"Dê o peso em kg de maçã: \"))\n",
        "pesoMorango = float(input(\"Dê o peso em kg de morango: \"))\n",
        "\n",
        "if pesoMaca <= 5.0:\n",
        "  precoMaca = 1.80\n",
        "else:\n",
        "  precoMaca = 1.50\n",
        "\n",
        "if pesoMorango <= 5.0:\n",
        "  precoMorango = 2.5\n",
        "else:\n",
        "  precoMorango = 2.20\n",
        "\n",
        "pesoTotal = pesoMaca + pesoMorango\n",
        "preçoTotal = (precoMaca*pesoMaca) + (precoMorango*pesoMorango)\n",
        "\n",
        "if (pesoTotal > 8.0) or (preçoTotal > 25.0):\n",
        "  precoTotal = preçoTotal *0.9\n",
        "\n",
        "print(f\"O preço a ser pago pela compra toda é R${preçoTotal:.2f}\")"
      ],
      "execution_count": null,
      "outputs": [
        {
          "output_type": "stream",
          "text": [
            "Dê o peso em kg de maçã: 15\n",
            "Dê o peso em kg de morango: 16\n",
            "O preço a ser pago pela compra toda é R$57.70\n"
          ],
          "name": "stdout"
        }
      ]
    },
    {
      "cell_type": "markdown",
      "metadata": {
        "id": "5lO4XkCf2uNB"
      },
      "source": [
        "##Tarefa 27 - O Hipermercado Tabajara está com uma promoção de carnes que é imperdível. Confira:\n",
        "\n",
        "                    Até 5 Kg                Acima de 5 Kg\n",
        "    File Duplo      R$ 4,90 por Kg          R$ 5,80 por Kg\n",
        "    Alcatra         R$ 5,90 por Kg          R$ 6,80 por Kg\n",
        "    Picanha         R$ 6,90 por Kg          R$ 7,80 por Kg\n",
        "\n",
        "Para atender a todos os clientes, cada cliente poderá levar apenas um dos tipos de carne da promoção, porém não há limites para a quantidade de carne por cliente. Se compra for feita no cartão Tabajara o cliente receberá ainda um desconto de 5% sobre o total da compra. Escreva um programa que peça o tipo e a quantidade de carne comprada pelo usuário e gere um cupom fiscal, contendo as informações da compra: tipo e quantidade de carne, preço total, tipo de pagamento, valor do desconto e valor a pagar."
      ]
    },
    {
      "cell_type": "code",
      "metadata": {
        "colab": {
          "base_uri": "https://localhost:8080/"
        },
        "id": "eTsyxA_524fp",
        "outputId": "a67b61e5-b5b8-45ec-c158-c19272e2ad94"
      },
      "source": [
        "tipoCarne = int(input(\"Qual carne você quer comprar? (1-Filé Duplo, 2-Alcatra e 3-Picanha)\"))\n",
        "pesoCarne = float(input(\"Quantos quilos quer comprar? \"))\n",
        "cartao = input(\"Pagará com o nosso cartão? (S/N)\")\n",
        "\n",
        "if (tipoCarne not in [1, 2, 3]) or (cartao.upper() not in [\"S\", \"N\"]):\n",
        "  print(\"Você inseriu respostas fora dos parâmetros.\")\n",
        "else:\n",
        "  if(tipoCarne == 1):\n",
        "    if pesoCarne <= 5.0:\n",
        "      preco = 4.90\n",
        "    else:\n",
        "      preco = 5.80\n",
        "  elif(tipoCarne == 2):\n",
        "    if pesoCarne <= 5.0:\n",
        "      preco = 5.90\n",
        "    else:\n",
        "      preco = 6.80\n",
        "  else:\n",
        "    if pesoCarne <= 5.0:\n",
        "      preco = 6.90\n",
        "    else:\n",
        "      preco = 7.80   \n",
        "  \n",
        "  precoTotal = pesoCarne*preco\n",
        "  if cartao.upper() == \"S\":\n",
        "    precoTotal = precoTotal*0.95\n",
        "\n",
        "print(f\"O preço total da compra é R${precoTotal:.2f}\")"
      ],
      "execution_count": null,
      "outputs": [
        {
          "output_type": "stream",
          "text": [
            "Qual carne você quer comprar? (1-Filé Duplo, 2-Alcatra e 3-Picanha)2\n",
            "Quantos quilos quer comprar? 25\n",
            "Pagará com o nosso cartão? (S/N)s\n",
            "O preço total da compra é R$161.50\n"
          ],
          "name": "stdout"
        }
      ]
    },
    {
      "cell_type": "markdown",
      "metadata": {
        "id": "ks7QIF563BTF"
      },
      "source": [
        "#**ESTRUTURA DE REPETIÇÃO**"
      ]
    },
    {
      "cell_type": "markdown",
      "metadata": {
        "id": "kYsnZKuP4_di"
      },
      "source": [
        "##Tarefa 01 - Faça um programa que peça uma nota, entre zero e dez. Mostre uma mensagem caso o valor seja inválido e continue pedindo até que o usuário informe um valor válido."
      ]
    },
    {
      "cell_type": "code",
      "metadata": {
        "colab": {
          "base_uri": "https://localhost:8080/"
        },
        "id": "v5vXgSTJ5HdR",
        "outputId": "335fe5c2-56af-496d-936d-16a288619e1f"
      },
      "source": [
        "nota = float(input(\"Digite uma nota de zero a dez: \"))\n",
        "\n",
        "while nota<0 or nota>10:\n",
        "  print(\"Você inseriu uma nota errada.\")\n",
        "  nota = float(input(\"Digite uma nota de zero a dez: \"))"
      ],
      "execution_count": null,
      "outputs": [
        {
          "output_type": "stream",
          "text": [
            "Digite uma nota de zero a dez: 11\n",
            "Você inseriu uma nota errada.\n",
            "Digite uma nota de zero a dez: 10\n"
          ],
          "name": "stdout"
        }
      ]
    },
    {
      "cell_type": "markdown",
      "metadata": {
        "id": "sYjmCMYm5MCb"
      },
      "source": [
        "##Tarefa 02 - Faça um programa que leia um nome de usuário e a sua senha e não aceite a senha igual ao nome do usuário, mostrando uma mensagem de erro e voltando a pedir as informações."
      ]
    },
    {
      "cell_type": "code",
      "metadata": {
        "colab": {
          "base_uri": "https://localhost:8080/"
        },
        "id": "iKuipYI45QH7",
        "outputId": "ba2256b8-5950-41e3-dd37-6aa90de642a7"
      },
      "source": [
        "login = input(\"Digite um nome de usuário: \")\n",
        "senha = input(\"Digite uma senha diferente do seu nome de usuário: \")\n",
        "\n",
        "while login == senha:\n",
        "  print(\"Você digitou uma senha igual ao seu nome de usuário.\")\n",
        "  login = input(\"Digite um nome de usuário: \")\n",
        "  senha = input(\"Digite uma senha diferente do seu nome de usuário: \")"
      ],
      "execution_count": null,
      "outputs": [
        {
          "output_type": "stream",
          "text": [
            "Digite um nome de usuário: THIAGO\n",
            "Digite uma senha diferente do seu nome de usuário: THIAGO\n",
            "Você digitou uma senha igual ao seu nome de usuário.\n",
            "Digite um nome de usuário: THIAGO\n",
            "Digite uma senha diferente do seu nome de usuário: 555\n"
          ],
          "name": "stdout"
        }
      ]
    },
    {
      "cell_type": "markdown",
      "metadata": {
        "id": "gfiuowST5ZEL"
      },
      "source": [
        "##Tarefa 03 - Faça um programa que leia e valide as seguintes informações:\n",
        "Nome: maior que 3 caracteres;\n",
        "\n",
        "Idade: entre 0 e 150;\n",
        "\n",
        "Salário: maior que zero;\n",
        "\n",
        "Sexo: 'f' ou 'm';\n",
        "\n",
        "Estado Civil: 's', 'c', 'v', 'd';"
      ]
    },
    {
      "cell_type": "code",
      "metadata": {
        "colab": {
          "base_uri": "https://localhost:8080/"
        },
        "id": "E5ENH8o-5dij",
        "outputId": "f6b1ab15-26c1-41a5-a0d1-45a30c92c3b5"
      },
      "source": [
        "nome = input(\"Nome (maior que 3 caracteres): \")\n",
        "while (len(nome) < 4):\n",
        "  nome = input(\"Nome inválido, digite novamente: \")\n",
        "\n",
        "idade = int(input(\"Idade (entre 0 e 150): \"))\n",
        "while idade <= 0 or idade >= 150:\n",
        "  idade = int(input(\"Idade inválida, digite novamente: \"))\n",
        "\n",
        "salario = float(input(\"Salário (maior que zero): \"))\n",
        "while salario <= 0:\n",
        "  salario = float(input(\"Salário inválido, digite novamente: \"))\n",
        "\n",
        "sexo = input(\"Sexo (M/F): \")\n",
        "while sexo.upper() != \"F\" and  sexo.upper() != \"M\":\n",
        "  sexo = input(\"Entrada de sexo inválido, digite novamente: \")\n",
        "\n",
        "estadoCivil = input(\"Estado Civil (S, C, V ou D): \")\n",
        "while estadoCivil.upper() not in [\"S\", \"C\", \"V\", \"D\"]:\n",
        "  estadoCivil = input(\"Entrada de estado civil inválido, digite novamente: \")"
      ],
      "execution_count": null,
      "outputs": [
        {
          "output_type": "stream",
          "text": [
            "Nome (maior que 3 caracteres): TA\n",
            "Nome inválido, digite novamente: THIAGO\n",
            "Idade (entre 0 e 150): -5\n",
            "Idade inválida, digite novamente: 30\n",
            "Salário (maior que zero): 0\n",
            "Salário inválido, digite novamente: 7000\n",
            "Sexo (M/F): T\n",
            "Entrada de sexo inválido, digite novamente: M\n",
            "Estado Civil (S, C, V ou D): R\n",
            "Entrada de estado civil inválido, digite novamente: D\n"
          ],
          "name": "stdout"
        }
      ]
    },
    {
      "cell_type": "markdown",
      "metadata": {
        "id": "BwTTBFW-5qDz"
      },
      "source": [
        "##Tarefa 04 - Supondo que a população de um país A seja da ordem de 80000 habitantes com uma taxa anual de crescimento de 3% e que a população de B seja 200000 habitantes com uma taxa de crescimento de 1.5%. Faça um programa que calcule e escreva o número de anos necessários para que a população do país A ultrapasse ou iguale a população do país B, mantidas as taxas de crescimento."
      ]
    },
    {
      "cell_type": "code",
      "metadata": {
        "colab": {
          "base_uri": "https://localhost:8080/"
        },
        "id": "iBBzQDaA5v2T",
        "outputId": "000009a8-0751-4660-decd-4101547a5f3f"
      },
      "source": [
        "popA = 80000\n",
        "popB = 200000\n",
        "\n",
        "taxaCrescA = 1.03\n",
        "taxaCrescB = 1.015\n",
        "anos = 0\n",
        "\n",
        "while popA < popB:\n",
        "  popA *= taxaCrescA\n",
        "  popB *= taxaCrescB\n",
        "  anos += 1\n",
        "\n",
        "print(f'Levou {anos} anos.')\n",
        "print(f'Hoje o país A possui {popA:.0f} habitantes e o país B {popB:.0f}.')"
      ],
      "execution_count": null,
      "outputs": [
        {
          "output_type": "stream",
          "text": [
            "Levou 63 anos.\n",
            "Hoje o país A possui 515033 habitantes e o país B 510964.\n"
          ],
          "name": "stdout"
        }
      ]
    },
    {
      "cell_type": "markdown",
      "metadata": {
        "id": "55YKGQAP54aT"
      },
      "source": [
        "##Tarefa 05 - Altere o programa anterior permitindo ao usuário informar as populações e as taxas de crescimento iniciais. Valide a entrada e permita repetir a operação."
      ]
    },
    {
      "cell_type": "code",
      "metadata": {
        "colab": {
          "base_uri": "https://localhost:8080/"
        },
        "id": "WvraCcuI5ySM",
        "outputId": "1d797ad0-24d2-45c0-efc4-b69fb9e4de18"
      },
      "source": [
        "popA = int(input(\"Digite o número de habitantes do país A: \"))\n",
        "while popA <1:\n",
        "  print(\"Existe pelo menos um habitante.\")\n",
        "  popA = int(input(\"Digite o número de habitantes do país A: \"))\n",
        "\n",
        "popB = int(input(\"Digite o número de habitantes do país B: \"))\n",
        "while popB <1:\n",
        "  print(\"Existe pelo menos um habitante.\")\n",
        "  popB = int(input(\"Digite o número de habitantes do país B: \"))\n",
        "\n",
        "taxaCrescA = float(input(\"Digite a taca de crescimento do país A em porcentagem: \"))\n",
        "taxaCrescA = (taxaCrescA/100)+1\n",
        "taxaCrescB = float(input(\"Digite a taca de crescimento do país B em porcentagem: \"))\n",
        "taxaCrescB = (taxaCrescB/100)+1\n",
        "anos = 0\n",
        "\n",
        "while popA < popB:\n",
        "  popA *= taxaCrescA\n",
        "  popB *= taxaCrescB\n",
        "  anos += 1\n",
        "\n",
        "print(f'Levou {anos} anos.')\n",
        "print(f'Hoje o país A possui {popA:.0f} habitantes e o país B {popB:.0f}.')"
      ],
      "execution_count": null,
      "outputs": [
        {
          "output_type": "stream",
          "text": [
            "Digite o número de habitantes do país A: 45000\n",
            "Digite o número de habitantes do país B: 150000\n",
            "Digite a taca de crescimento do país A em porcentagem: 8\n",
            "Digite a taca de crescimento do país B em porcentagem: 3\n",
            "Levou 26 anos.\n",
            "Hoje o país A possui 332836 habitantes e o país B 323489.\n"
          ],
          "name": "stdout"
        }
      ]
    }
  ]
}